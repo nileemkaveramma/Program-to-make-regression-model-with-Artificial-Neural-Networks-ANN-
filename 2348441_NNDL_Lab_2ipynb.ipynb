{
  "nbformat": 4,
  "nbformat_minor": 0,
  "metadata": {
    "colab": {
      "provenance": []
    },
    "kernelspec": {
      "name": "python3",
      "display_name": "Python 3"
    },
    "language_info": {
      "name": "python"
    }
  },
  "cells": [
    {
      "cell_type": "markdown",
      "source": [
        "###Create a regression model with Artificial Neural Networks (ANN) by following steps like data preparation and model training for predicting continuous outcomes"
      ],
      "metadata": {
        "id": "evyfha2LQO3V"
      }
    },
    {
      "cell_type": "markdown",
      "source": [
        "A regression model is used when the goal is to predict a continuous target variable based on one or more input features."
      ],
      "metadata": {
        "id": "MWn9V9MEQaty"
      }
    },
    {
      "cell_type": "code",
      "execution_count": null,
      "metadata": {
        "id": "mrm7g-fAw2L0"
      },
      "outputs": [],
      "source": [
        "import pandas as pd\n",
        "from sklearn.model_selection import train_test_split\n",
        "from sklearn.preprocessing import StandardScaler, LabelEncoder\n",
        "import tensorflow as tf\n",
        "from tensorflow.keras.models import Sequential\n",
        "from tensorflow.keras.layers import Dense\n"
      ]
    },
    {
      "cell_type": "code",
      "source": [
        "# Load the dataset\n",
        "file_path = '/content/Titaanic Datasetforlogisticregression .csv'\n",
        "data = pd.read_csv(file_path)"
      ],
      "metadata": {
        "id": "Ukqo6kmkxCdY"
      },
      "execution_count": null,
      "outputs": []
    },
    {
      "cell_type": "code",
      "source": [
        "data"
      ],
      "metadata": {
        "colab": {
          "base_uri": "https://localhost:8080/",
          "height": 423
        },
        "id": "VkinnRrg-sV2",
        "outputId": "be1a8a27-ea37-42eb-d7a7-f1188d647ac8"
      },
      "execution_count": null,
      "outputs": [
        {
          "output_type": "execute_result",
          "data": {
            "text/plain": [
              "     Survived  Pclass     Sex   Age  Siblings/Spouses Aboard  \\\n",
              "0           0       3    male  22.0                        1   \n",
              "1           1       1  female  38.0                        1   \n",
              "2           1       3  female  26.0                        0   \n",
              "3           1       1  female  35.0                        1   \n",
              "4           0       3    male  35.0                        0   \n",
              "..        ...     ...     ...   ...                      ...   \n",
              "882         0       2    male  27.0                        0   \n",
              "883         1       1  female  19.0                        0   \n",
              "884         0       3  female   7.0                        1   \n",
              "885         1       1    male  26.0                        0   \n",
              "886         0       3    male  32.0                        0   \n",
              "\n",
              "     Parents/Children Aboard     Fare  \n",
              "0                          0   7.2500  \n",
              "1                          0  71.2833  \n",
              "2                          0   7.9250  \n",
              "3                          0  53.1000  \n",
              "4                          0   8.0500  \n",
              "..                       ...      ...  \n",
              "882                        0  13.0000  \n",
              "883                        0  30.0000  \n",
              "884                        2  23.4500  \n",
              "885                        0  30.0000  \n",
              "886                        0   7.7500  \n",
              "\n",
              "[887 rows x 7 columns]"
            ],
            "text/html": [
              "\n",
              "  <div id=\"df-66e091f4-9c4f-4f10-aa7e-4c888b545962\" class=\"colab-df-container\">\n",
              "    <div>\n",
              "<style scoped>\n",
              "    .dataframe tbody tr th:only-of-type {\n",
              "        vertical-align: middle;\n",
              "    }\n",
              "\n",
              "    .dataframe tbody tr th {\n",
              "        vertical-align: top;\n",
              "    }\n",
              "\n",
              "    .dataframe thead th {\n",
              "        text-align: right;\n",
              "    }\n",
              "</style>\n",
              "<table border=\"1\" class=\"dataframe\">\n",
              "  <thead>\n",
              "    <tr style=\"text-align: right;\">\n",
              "      <th></th>\n",
              "      <th>Survived</th>\n",
              "      <th>Pclass</th>\n",
              "      <th>Sex</th>\n",
              "      <th>Age</th>\n",
              "      <th>Siblings/Spouses Aboard</th>\n",
              "      <th>Parents/Children Aboard</th>\n",
              "      <th>Fare</th>\n",
              "    </tr>\n",
              "  </thead>\n",
              "  <tbody>\n",
              "    <tr>\n",
              "      <th>0</th>\n",
              "      <td>0</td>\n",
              "      <td>3</td>\n",
              "      <td>male</td>\n",
              "      <td>22.0</td>\n",
              "      <td>1</td>\n",
              "      <td>0</td>\n",
              "      <td>7.2500</td>\n",
              "    </tr>\n",
              "    <tr>\n",
              "      <th>1</th>\n",
              "      <td>1</td>\n",
              "      <td>1</td>\n",
              "      <td>female</td>\n",
              "      <td>38.0</td>\n",
              "      <td>1</td>\n",
              "      <td>0</td>\n",
              "      <td>71.2833</td>\n",
              "    </tr>\n",
              "    <tr>\n",
              "      <th>2</th>\n",
              "      <td>1</td>\n",
              "      <td>3</td>\n",
              "      <td>female</td>\n",
              "      <td>26.0</td>\n",
              "      <td>0</td>\n",
              "      <td>0</td>\n",
              "      <td>7.9250</td>\n",
              "    </tr>\n",
              "    <tr>\n",
              "      <th>3</th>\n",
              "      <td>1</td>\n",
              "      <td>1</td>\n",
              "      <td>female</td>\n",
              "      <td>35.0</td>\n",
              "      <td>1</td>\n",
              "      <td>0</td>\n",
              "      <td>53.1000</td>\n",
              "    </tr>\n",
              "    <tr>\n",
              "      <th>4</th>\n",
              "      <td>0</td>\n",
              "      <td>3</td>\n",
              "      <td>male</td>\n",
              "      <td>35.0</td>\n",
              "      <td>0</td>\n",
              "      <td>0</td>\n",
              "      <td>8.0500</td>\n",
              "    </tr>\n",
              "    <tr>\n",
              "      <th>...</th>\n",
              "      <td>...</td>\n",
              "      <td>...</td>\n",
              "      <td>...</td>\n",
              "      <td>...</td>\n",
              "      <td>...</td>\n",
              "      <td>...</td>\n",
              "      <td>...</td>\n",
              "    </tr>\n",
              "    <tr>\n",
              "      <th>882</th>\n",
              "      <td>0</td>\n",
              "      <td>2</td>\n",
              "      <td>male</td>\n",
              "      <td>27.0</td>\n",
              "      <td>0</td>\n",
              "      <td>0</td>\n",
              "      <td>13.0000</td>\n",
              "    </tr>\n",
              "    <tr>\n",
              "      <th>883</th>\n",
              "      <td>1</td>\n",
              "      <td>1</td>\n",
              "      <td>female</td>\n",
              "      <td>19.0</td>\n",
              "      <td>0</td>\n",
              "      <td>0</td>\n",
              "      <td>30.0000</td>\n",
              "    </tr>\n",
              "    <tr>\n",
              "      <th>884</th>\n",
              "      <td>0</td>\n",
              "      <td>3</td>\n",
              "      <td>female</td>\n",
              "      <td>7.0</td>\n",
              "      <td>1</td>\n",
              "      <td>2</td>\n",
              "      <td>23.4500</td>\n",
              "    </tr>\n",
              "    <tr>\n",
              "      <th>885</th>\n",
              "      <td>1</td>\n",
              "      <td>1</td>\n",
              "      <td>male</td>\n",
              "      <td>26.0</td>\n",
              "      <td>0</td>\n",
              "      <td>0</td>\n",
              "      <td>30.0000</td>\n",
              "    </tr>\n",
              "    <tr>\n",
              "      <th>886</th>\n",
              "      <td>0</td>\n",
              "      <td>3</td>\n",
              "      <td>male</td>\n",
              "      <td>32.0</td>\n",
              "      <td>0</td>\n",
              "      <td>0</td>\n",
              "      <td>7.7500</td>\n",
              "    </tr>\n",
              "  </tbody>\n",
              "</table>\n",
              "<p>887 rows × 7 columns</p>\n",
              "</div>\n",
              "    <div class=\"colab-df-buttons\">\n",
              "\n",
              "  <div class=\"colab-df-container\">\n",
              "    <button class=\"colab-df-convert\" onclick=\"convertToInteractive('df-66e091f4-9c4f-4f10-aa7e-4c888b545962')\"\n",
              "            title=\"Convert this dataframe to an interactive table.\"\n",
              "            style=\"display:none;\">\n",
              "\n",
              "  <svg xmlns=\"http://www.w3.org/2000/svg\" height=\"24px\" viewBox=\"0 -960 960 960\">\n",
              "    <path d=\"M120-120v-720h720v720H120Zm60-500h600v-160H180v160Zm220 220h160v-160H400v160Zm0 220h160v-160H400v160ZM180-400h160v-160H180v160Zm440 0h160v-160H620v160ZM180-180h160v-160H180v160Zm440 0h160v-160H620v160Z\"/>\n",
              "  </svg>\n",
              "    </button>\n",
              "\n",
              "  <style>\n",
              "    .colab-df-container {\n",
              "      display:flex;\n",
              "      gap: 12px;\n",
              "    }\n",
              "\n",
              "    .colab-df-convert {\n",
              "      background-color: #E8F0FE;\n",
              "      border: none;\n",
              "      border-radius: 50%;\n",
              "      cursor: pointer;\n",
              "      display: none;\n",
              "      fill: #1967D2;\n",
              "      height: 32px;\n",
              "      padding: 0 0 0 0;\n",
              "      width: 32px;\n",
              "    }\n",
              "\n",
              "    .colab-df-convert:hover {\n",
              "      background-color: #E2EBFA;\n",
              "      box-shadow: 0px 1px 2px rgba(60, 64, 67, 0.3), 0px 1px 3px 1px rgba(60, 64, 67, 0.15);\n",
              "      fill: #174EA6;\n",
              "    }\n",
              "\n",
              "    .colab-df-buttons div {\n",
              "      margin-bottom: 4px;\n",
              "    }\n",
              "\n",
              "    [theme=dark] .colab-df-convert {\n",
              "      background-color: #3B4455;\n",
              "      fill: #D2E3FC;\n",
              "    }\n",
              "\n",
              "    [theme=dark] .colab-df-convert:hover {\n",
              "      background-color: #434B5C;\n",
              "      box-shadow: 0px 1px 3px 1px rgba(0, 0, 0, 0.15);\n",
              "      filter: drop-shadow(0px 1px 2px rgba(0, 0, 0, 0.3));\n",
              "      fill: #FFFFFF;\n",
              "    }\n",
              "  </style>\n",
              "\n",
              "    <script>\n",
              "      const buttonEl =\n",
              "        document.querySelector('#df-66e091f4-9c4f-4f10-aa7e-4c888b545962 button.colab-df-convert');\n",
              "      buttonEl.style.display =\n",
              "        google.colab.kernel.accessAllowed ? 'block' : 'none';\n",
              "\n",
              "      async function convertToInteractive(key) {\n",
              "        const element = document.querySelector('#df-66e091f4-9c4f-4f10-aa7e-4c888b545962');\n",
              "        const dataTable =\n",
              "          await google.colab.kernel.invokeFunction('convertToInteractive',\n",
              "                                                    [key], {});\n",
              "        if (!dataTable) return;\n",
              "\n",
              "        const docLinkHtml = 'Like what you see? Visit the ' +\n",
              "          '<a target=\"_blank\" href=https://colab.research.google.com/notebooks/data_table.ipynb>data table notebook</a>'\n",
              "          + ' to learn more about interactive tables.';\n",
              "        element.innerHTML = '';\n",
              "        dataTable['output_type'] = 'display_data';\n",
              "        await google.colab.output.renderOutput(dataTable, element);\n",
              "        const docLink = document.createElement('div');\n",
              "        docLink.innerHTML = docLinkHtml;\n",
              "        element.appendChild(docLink);\n",
              "      }\n",
              "    </script>\n",
              "  </div>\n",
              "\n",
              "\n",
              "<div id=\"df-3a9aa539-ca2a-41de-b356-24c406b250e0\">\n",
              "  <button class=\"colab-df-quickchart\" onclick=\"quickchart('df-3a9aa539-ca2a-41de-b356-24c406b250e0')\"\n",
              "            title=\"Suggest charts\"\n",
              "            style=\"display:none;\">\n",
              "\n",
              "<svg xmlns=\"http://www.w3.org/2000/svg\" height=\"24px\"viewBox=\"0 0 24 24\"\n",
              "     width=\"24px\">\n",
              "    <g>\n",
              "        <path d=\"M19 3H5c-1.1 0-2 .9-2 2v14c0 1.1.9 2 2 2h14c1.1 0 2-.9 2-2V5c0-1.1-.9-2-2-2zM9 17H7v-7h2v7zm4 0h-2V7h2v10zm4 0h-2v-4h2v4z\"/>\n",
              "    </g>\n",
              "</svg>\n",
              "  </button>\n",
              "\n",
              "<style>\n",
              "  .colab-df-quickchart {\n",
              "      --bg-color: #E8F0FE;\n",
              "      --fill-color: #1967D2;\n",
              "      --hover-bg-color: #E2EBFA;\n",
              "      --hover-fill-color: #174EA6;\n",
              "      --disabled-fill-color: #AAA;\n",
              "      --disabled-bg-color: #DDD;\n",
              "  }\n",
              "\n",
              "  [theme=dark] .colab-df-quickchart {\n",
              "      --bg-color: #3B4455;\n",
              "      --fill-color: #D2E3FC;\n",
              "      --hover-bg-color: #434B5C;\n",
              "      --hover-fill-color: #FFFFFF;\n",
              "      --disabled-bg-color: #3B4455;\n",
              "      --disabled-fill-color: #666;\n",
              "  }\n",
              "\n",
              "  .colab-df-quickchart {\n",
              "    background-color: var(--bg-color);\n",
              "    border: none;\n",
              "    border-radius: 50%;\n",
              "    cursor: pointer;\n",
              "    display: none;\n",
              "    fill: var(--fill-color);\n",
              "    height: 32px;\n",
              "    padding: 0;\n",
              "    width: 32px;\n",
              "  }\n",
              "\n",
              "  .colab-df-quickchart:hover {\n",
              "    background-color: var(--hover-bg-color);\n",
              "    box-shadow: 0 1px 2px rgba(60, 64, 67, 0.3), 0 1px 3px 1px rgba(60, 64, 67, 0.15);\n",
              "    fill: var(--button-hover-fill-color);\n",
              "  }\n",
              "\n",
              "  .colab-df-quickchart-complete:disabled,\n",
              "  .colab-df-quickchart-complete:disabled:hover {\n",
              "    background-color: var(--disabled-bg-color);\n",
              "    fill: var(--disabled-fill-color);\n",
              "    box-shadow: none;\n",
              "  }\n",
              "\n",
              "  .colab-df-spinner {\n",
              "    border: 2px solid var(--fill-color);\n",
              "    border-color: transparent;\n",
              "    border-bottom-color: var(--fill-color);\n",
              "    animation:\n",
              "      spin 1s steps(1) infinite;\n",
              "  }\n",
              "\n",
              "  @keyframes spin {\n",
              "    0% {\n",
              "      border-color: transparent;\n",
              "      border-bottom-color: var(--fill-color);\n",
              "      border-left-color: var(--fill-color);\n",
              "    }\n",
              "    20% {\n",
              "      border-color: transparent;\n",
              "      border-left-color: var(--fill-color);\n",
              "      border-top-color: var(--fill-color);\n",
              "    }\n",
              "    30% {\n",
              "      border-color: transparent;\n",
              "      border-left-color: var(--fill-color);\n",
              "      border-top-color: var(--fill-color);\n",
              "      border-right-color: var(--fill-color);\n",
              "    }\n",
              "    40% {\n",
              "      border-color: transparent;\n",
              "      border-right-color: var(--fill-color);\n",
              "      border-top-color: var(--fill-color);\n",
              "    }\n",
              "    60% {\n",
              "      border-color: transparent;\n",
              "      border-right-color: var(--fill-color);\n",
              "    }\n",
              "    80% {\n",
              "      border-color: transparent;\n",
              "      border-right-color: var(--fill-color);\n",
              "      border-bottom-color: var(--fill-color);\n",
              "    }\n",
              "    90% {\n",
              "      border-color: transparent;\n",
              "      border-bottom-color: var(--fill-color);\n",
              "    }\n",
              "  }\n",
              "</style>\n",
              "\n",
              "  <script>\n",
              "    async function quickchart(key) {\n",
              "      const quickchartButtonEl =\n",
              "        document.querySelector('#' + key + ' button');\n",
              "      quickchartButtonEl.disabled = true;  // To prevent multiple clicks.\n",
              "      quickchartButtonEl.classList.add('colab-df-spinner');\n",
              "      try {\n",
              "        const charts = await google.colab.kernel.invokeFunction(\n",
              "            'suggestCharts', [key], {});\n",
              "      } catch (error) {\n",
              "        console.error('Error during call to suggestCharts:', error);\n",
              "      }\n",
              "      quickchartButtonEl.classList.remove('colab-df-spinner');\n",
              "      quickchartButtonEl.classList.add('colab-df-quickchart-complete');\n",
              "    }\n",
              "    (() => {\n",
              "      let quickchartButtonEl =\n",
              "        document.querySelector('#df-3a9aa539-ca2a-41de-b356-24c406b250e0 button');\n",
              "      quickchartButtonEl.style.display =\n",
              "        google.colab.kernel.accessAllowed ? 'block' : 'none';\n",
              "    })();\n",
              "  </script>\n",
              "</div>\n",
              "\n",
              "  <div id=\"id_18136f19-1b13-4f2e-8a7e-36f258f29b91\">\n",
              "    <style>\n",
              "      .colab-df-generate {\n",
              "        background-color: #E8F0FE;\n",
              "        border: none;\n",
              "        border-radius: 50%;\n",
              "        cursor: pointer;\n",
              "        display: none;\n",
              "        fill: #1967D2;\n",
              "        height: 32px;\n",
              "        padding: 0 0 0 0;\n",
              "        width: 32px;\n",
              "      }\n",
              "\n",
              "      .colab-df-generate:hover {\n",
              "        background-color: #E2EBFA;\n",
              "        box-shadow: 0px 1px 2px rgba(60, 64, 67, 0.3), 0px 1px 3px 1px rgba(60, 64, 67, 0.15);\n",
              "        fill: #174EA6;\n",
              "      }\n",
              "\n",
              "      [theme=dark] .colab-df-generate {\n",
              "        background-color: #3B4455;\n",
              "        fill: #D2E3FC;\n",
              "      }\n",
              "\n",
              "      [theme=dark] .colab-df-generate:hover {\n",
              "        background-color: #434B5C;\n",
              "        box-shadow: 0px 1px 3px 1px rgba(0, 0, 0, 0.15);\n",
              "        filter: drop-shadow(0px 1px 2px rgba(0, 0, 0, 0.3));\n",
              "        fill: #FFFFFF;\n",
              "      }\n",
              "    </style>\n",
              "    <button class=\"colab-df-generate\" onclick=\"generateWithVariable('data')\"\n",
              "            title=\"Generate code using this dataframe.\"\n",
              "            style=\"display:none;\">\n",
              "\n",
              "  <svg xmlns=\"http://www.w3.org/2000/svg\" height=\"24px\"viewBox=\"0 0 24 24\"\n",
              "       width=\"24px\">\n",
              "    <path d=\"M7,19H8.4L18.45,9,17,7.55,7,17.6ZM5,21V16.75L18.45,3.32a2,2,0,0,1,2.83,0l1.4,1.43a1.91,1.91,0,0,1,.58,1.4,1.91,1.91,0,0,1-.58,1.4L9.25,21ZM18.45,9,17,7.55Zm-12,3A5.31,5.31,0,0,0,4.9,8.1,5.31,5.31,0,0,0,1,6.5,5.31,5.31,0,0,0,4.9,4.9,5.31,5.31,0,0,0,6.5,1,5.31,5.31,0,0,0,8.1,4.9,5.31,5.31,0,0,0,12,6.5,5.46,5.46,0,0,0,6.5,12Z\"/>\n",
              "  </svg>\n",
              "    </button>\n",
              "    <script>\n",
              "      (() => {\n",
              "      const buttonEl =\n",
              "        document.querySelector('#id_18136f19-1b13-4f2e-8a7e-36f258f29b91 button.colab-df-generate');\n",
              "      buttonEl.style.display =\n",
              "        google.colab.kernel.accessAllowed ? 'block' : 'none';\n",
              "\n",
              "      buttonEl.onclick = () => {\n",
              "        google.colab.notebook.generateWithVariable('data');\n",
              "      }\n",
              "      })();\n",
              "    </script>\n",
              "  </div>\n",
              "\n",
              "    </div>\n",
              "  </div>\n"
            ],
            "application/vnd.google.colaboratory.intrinsic+json": {
              "type": "dataframe",
              "variable_name": "data",
              "summary": "{\n  \"name\": \"data\",\n  \"rows\": 887,\n  \"fields\": [\n    {\n      \"column\": \"Survived\",\n      \"properties\": {\n        \"dtype\": \"number\",\n        \"std\": 0,\n        \"min\": 0,\n        \"max\": 1,\n        \"num_unique_values\": 2,\n        \"samples\": [\n          1,\n          0\n        ],\n        \"semantic_type\": \"\",\n        \"description\": \"\"\n      }\n    },\n    {\n      \"column\": \"Pclass\",\n      \"properties\": {\n        \"dtype\": \"number\",\n        \"std\": 0,\n        \"min\": 1,\n        \"max\": 3,\n        \"num_unique_values\": 3,\n        \"samples\": [\n          3,\n          1\n        ],\n        \"semantic_type\": \"\",\n        \"description\": \"\"\n      }\n    },\n    {\n      \"column\": \"Sex\",\n      \"properties\": {\n        \"dtype\": \"category\",\n        \"num_unique_values\": 2,\n        \"samples\": [\n          \"female\",\n          \"male\"\n        ],\n        \"semantic_type\": \"\",\n        \"description\": \"\"\n      }\n    },\n    {\n      \"column\": \"Age\",\n      \"properties\": {\n        \"dtype\": \"number\",\n        \"std\": 14.12190840546256,\n        \"min\": 0.42,\n        \"max\": 80.0,\n        \"num_unique_values\": 89,\n        \"samples\": [\n          33.0,\n          9.0\n        ],\n        \"semantic_type\": \"\",\n        \"description\": \"\"\n      }\n    },\n    {\n      \"column\": \"Siblings/Spouses Aboard\",\n      \"properties\": {\n        \"dtype\": \"number\",\n        \"std\": 1,\n        \"min\": 0,\n        \"max\": 8,\n        \"num_unique_values\": 7,\n        \"samples\": [\n          1,\n          0\n        ],\n        \"semantic_type\": \"\",\n        \"description\": \"\"\n      }\n    },\n    {\n      \"column\": \"Parents/Children Aboard\",\n      \"properties\": {\n        \"dtype\": \"number\",\n        \"std\": 0,\n        \"min\": 0,\n        \"max\": 6,\n        \"num_unique_values\": 7,\n        \"samples\": [\n          0,\n          1\n        ],\n        \"semantic_type\": \"\",\n        \"description\": \"\"\n      }\n    },\n    {\n      \"column\": \"Fare\",\n      \"properties\": {\n        \"dtype\": \"number\",\n        \"std\": 49.78204040017391,\n        \"min\": 0.0,\n        \"max\": 512.3292,\n        \"num_unique_values\": 248,\n        \"samples\": [\n          11.2417,\n          51.8625\n        ],\n        \"semantic_type\": \"\",\n        \"description\": \"\"\n      }\n    }\n  ]\n}"
            }
          },
          "metadata": {},
          "execution_count": 3
        }
      ]
    },
    {
      "cell_type": "code",
      "source": [
        "# Handling missing values\n",
        "data['Age'].fillna(data['Age'].mean(), inplace=True)"
      ],
      "metadata": {
        "id": "sRr8aOtrxk22"
      },
      "execution_count": null,
      "outputs": []
    },
    {
      "cell_type": "code",
      "source": [
        "# Encoding categorical variables\n",
        "label_encoder = LabelEncoder()\n",
        "data['Sex'] = label_encoder.fit_transform(data['Sex'])"
      ],
      "metadata": {
        "id": "SRDMIZ2WxpQ3"
      },
      "execution_count": null,
      "outputs": []
    },
    {
      "cell_type": "markdown",
      "source": [
        "*  **Encoding categorical variable** encode categorical labels into numerical labels.\n",
        "* label_encoder = LabelEncoder(): This initializes a LabelEncoder object. The LabelEncoder converts categorical labels (i.e., strings or integers) into numerical labels (0, 1, 2, ...)."
      ],
      "metadata": {
        "id": "1GchR1wO91wP"
      }
    },
    {
      "cell_type": "code",
      "source": [
        "# Defining features and target variable\n",
        "X = data.drop(['Fare'], axis=1)\n",
        "y = data['Fare']"
      ],
      "metadata": {
        "id": "J55EZu6qxtFe"
      },
      "execution_count": null,
      "outputs": []
    },
    {
      "cell_type": "markdown",
      "source": [
        "* we are dropping target variable and considering rest of the variables\n",
        "* X = data.drop(['Fare'], axis=1): This line creates a new DataFrame X that contains all columns from the DataFrame data except for the column named 'Fare'\n",
        "* axis=1 specifies that we are dropping a column"
      ],
      "metadata": {
        "id": "XbM4WkXX-RvI"
      }
    },
    {
      "cell_type": "code",
      "source": [
        "# Splitting the data into training and testing sets\n",
        "X_train, X_test, y_train, y_test = train_test_split(X, y, test_size=0.2, random_state=42)"
      ],
      "metadata": {
        "id": "MdUx4Mxyxvnf"
      },
      "execution_count": null,
      "outputs": []
    },
    {
      "cell_type": "code",
      "source": [
        "# Standardizing the data\n",
        "scaler = StandardScaler()\n",
        "X_train_scaled = scaler.fit_transform(X_train)\n",
        "X_test_scaled = scaler.transform(X_test)\n"
      ],
      "metadata": {
        "id": "sGpR_raLxy4h"
      },
      "execution_count": null,
      "outputs": []
    },
    {
      "cell_type": "code",
      "source": [
        "# Define the ANN model\n",
        "model = Sequential()\n",
        "model.add(Dense(units=64, activation='relu', input_shape=(X_train_scaled.shape[1],)))\n",
        "model.add(Dense(units=32, activation='relu'))\n",
        "model.add(Dense(units=16, activation='relu'))\n",
        "model.add(Dense(units=1))"
      ],
      "metadata": {
        "id": "laZavDtAyQSF"
      },
      "execution_count": null,
      "outputs": []
    },
    {
      "cell_type": "markdown",
      "source": [
        "* model = Sequential(): This initializes a sequential model in Keras. A sequential model is appropriate for a plain stack of layers\n",
        "* Dense(units=64): Adds a fully connected (dense) layer with 64 neurons.\n",
        "* ReLU is commonly used in hidden layers of neural networks as it introduces non-linearity.\n"
      ],
      "metadata": {
        "id": "I4Fllk4m_TU0"
      }
    },
    {
      "cell_type": "code",
      "source": [
        "# Compile the model\n",
        "model.compile(optimizer='adam', loss='mean_squared_error')"
      ],
      "metadata": {
        "id": "_UWyGA7wyRCt"
      },
      "execution_count": null,
      "outputs": []
    },
    {
      "cell_type": "markdown",
      "source": [
        "* Adam stands for Adaptive Moment Estimation, which is an adaptive learning rate optimization algorithm.\n",
        "* Mean Squared Error (MSE) is a common loss function used for regression tasks used to calculate difference between the predicted values and the actual target values.\n"
      ],
      "metadata": {
        "id": "5IT-DmGg_rtH"
      }
    },
    {
      "cell_type": "markdown",
      "source": [
        "* Setting epochs=100 means that the model will be trained on the entire dataset 100 times.\n",
        "* A batch size of 32 means that the model will update its weights after processing every 32 samples.\n",
        "* 0.2 means that 20% of the training data will be set aside as validation data, while the remaining 80% will be used for training."
      ],
      "metadata": {
        "id": "6kAbF_VmAM1P"
      }
    },
    {
      "cell_type": "code",
      "source": [
        "# Train the model\n",
        "model.fit(X_train_scaled, y_train, epochs=100, batch_size=32, validation_split=0.2)"
      ],
      "metadata": {
        "colab": {
          "base_uri": "https://localhost:8080/"
        },
        "id": "oSH3PgEwyYDD",
        "outputId": "dcce6731-3397-46c0-d28c-b3a5b518dd1c"
      },
      "execution_count": null,
      "outputs": [
        {
          "output_type": "stream",
          "name": "stdout",
          "text": [
            "Epoch 1/100\n",
            "18/18 [==============================] - 1s 14ms/step - loss: 3631.8762 - val_loss: 5123.5898\n",
            "Epoch 2/100\n",
            "18/18 [==============================] - 0s 4ms/step - loss: 3613.8416 - val_loss: 5106.3154\n",
            "Epoch 3/100\n",
            "18/18 [==============================] - 0s 4ms/step - loss: 3598.7080 - val_loss: 5074.4688\n",
            "Epoch 4/100\n",
            "18/18 [==============================] - 0s 6ms/step - loss: 3565.8667 - val_loss: 5001.4731\n",
            "Epoch 5/100\n",
            "18/18 [==============================] - 0s 8ms/step - loss: 3490.2061 - val_loss: 4844.4253\n",
            "Epoch 6/100\n",
            "18/18 [==============================] - 0s 6ms/step - loss: 3340.8215 - val_loss: 4538.8242\n",
            "Epoch 7/100\n",
            "18/18 [==============================] - 0s 7ms/step - loss: 3070.5225 - val_loss: 4028.6101\n",
            "Epoch 8/100\n",
            "18/18 [==============================] - 0s 6ms/step - loss: 2670.3481 - val_loss: 3336.4951\n",
            "Epoch 9/100\n",
            "18/18 [==============================] - 0s 5ms/step - loss: 2263.2100 - val_loss: 2711.8049\n",
            "Epoch 10/100\n",
            "18/18 [==============================] - 0s 8ms/step - loss: 1990.3558 - val_loss: 2379.9519\n",
            "Epoch 11/100\n",
            "18/18 [==============================] - 0s 8ms/step - loss: 1883.0540 - val_loss: 2265.4150\n",
            "Epoch 12/100\n",
            "18/18 [==============================] - 0s 6ms/step - loss: 1842.7764 - val_loss: 2171.3335\n",
            "Epoch 13/100\n",
            "18/18 [==============================] - 0s 7ms/step - loss: 1794.1682 - val_loss: 2150.8210\n",
            "Epoch 14/100\n",
            "18/18 [==============================] - 0s 5ms/step - loss: 1768.9255 - val_loss: 2133.5173\n",
            "Epoch 15/100\n",
            "18/18 [==============================] - 0s 5ms/step - loss: 1752.5627 - val_loss: 2031.8235\n",
            "Epoch 16/100\n",
            "18/18 [==============================] - 0s 6ms/step - loss: 1731.0736 - val_loss: 2054.1753\n",
            "Epoch 17/100\n",
            "18/18 [==============================] - 0s 6ms/step - loss: 1715.0896 - val_loss: 1959.3446\n",
            "Epoch 18/100\n",
            "18/18 [==============================] - 0s 8ms/step - loss: 1707.9585 - val_loss: 1962.1477\n",
            "Epoch 19/100\n",
            "18/18 [==============================] - 0s 6ms/step - loss: 1685.8933 - val_loss: 1908.7394\n",
            "Epoch 20/100\n",
            "18/18 [==============================] - 0s 8ms/step - loss: 1677.9972 - val_loss: 1880.5845\n",
            "Epoch 21/100\n",
            "18/18 [==============================] - 0s 7ms/step - loss: 1668.1893 - val_loss: 1862.2188\n",
            "Epoch 22/100\n",
            "18/18 [==============================] - 0s 7ms/step - loss: 1662.7506 - val_loss: 1855.6765\n",
            "Epoch 23/100\n",
            "18/18 [==============================] - 0s 6ms/step - loss: 1659.9943 - val_loss: 1859.3182\n",
            "Epoch 24/100\n",
            "18/18 [==============================] - 0s 7ms/step - loss: 1649.6552 - val_loss: 1804.4296\n",
            "Epoch 25/100\n",
            "18/18 [==============================] - 0s 8ms/step - loss: 1644.6847 - val_loss: 1781.6002\n",
            "Epoch 26/100\n",
            "18/18 [==============================] - 0s 8ms/step - loss: 1638.5148 - val_loss: 1780.9257\n",
            "Epoch 27/100\n",
            "18/18 [==============================] - 0s 7ms/step - loss: 1635.1736 - val_loss: 1770.7360\n",
            "Epoch 28/100\n",
            "18/18 [==============================] - 0s 7ms/step - loss: 1634.0955 - val_loss: 1765.9064\n",
            "Epoch 29/100\n",
            "18/18 [==============================] - 0s 5ms/step - loss: 1624.7477 - val_loss: 1756.8580\n",
            "Epoch 30/100\n",
            "18/18 [==============================] - 0s 5ms/step - loss: 1622.5693 - val_loss: 1720.2784\n",
            "Epoch 31/100\n",
            "18/18 [==============================] - 0s 5ms/step - loss: 1617.6904 - val_loss: 1708.8174\n",
            "Epoch 32/100\n",
            "18/18 [==============================] - 0s 5ms/step - loss: 1612.4611 - val_loss: 1694.6318\n",
            "Epoch 33/100\n",
            "18/18 [==============================] - 0s 4ms/step - loss: 1610.4146 - val_loss: 1663.1091\n",
            "Epoch 34/100\n",
            "18/18 [==============================] - 0s 4ms/step - loss: 1607.2712 - val_loss: 1673.1448\n",
            "Epoch 35/100\n",
            "18/18 [==============================] - 0s 5ms/step - loss: 1600.7109 - val_loss: 1685.3138\n",
            "Epoch 36/100\n",
            "18/18 [==============================] - 0s 6ms/step - loss: 1601.0968 - val_loss: 1661.1660\n",
            "Epoch 37/100\n",
            "18/18 [==============================] - 0s 5ms/step - loss: 1593.6312 - val_loss: 1683.4950\n",
            "Epoch 38/100\n",
            "18/18 [==============================] - 0s 4ms/step - loss: 1592.0001 - val_loss: 1630.9720\n",
            "Epoch 39/100\n",
            "18/18 [==============================] - 0s 5ms/step - loss: 1586.3643 - val_loss: 1637.2549\n",
            "Epoch 40/100\n",
            "18/18 [==============================] - 0s 4ms/step - loss: 1580.7631 - val_loss: 1634.8708\n",
            "Epoch 41/100\n",
            "18/18 [==============================] - 0s 4ms/step - loss: 1577.2279 - val_loss: 1620.5724\n",
            "Epoch 42/100\n",
            "18/18 [==============================] - 0s 5ms/step - loss: 1575.6241 - val_loss: 1593.3928\n",
            "Epoch 43/100\n",
            "18/18 [==============================] - 0s 4ms/step - loss: 1568.6691 - val_loss: 1615.2491\n",
            "Epoch 44/100\n",
            "18/18 [==============================] - 0s 5ms/step - loss: 1565.7574 - val_loss: 1577.9180\n",
            "Epoch 45/100\n",
            "18/18 [==============================] - 0s 5ms/step - loss: 1559.5353 - val_loss: 1588.9293\n",
            "Epoch 46/100\n",
            "18/18 [==============================] - 0s 5ms/step - loss: 1557.1909 - val_loss: 1584.1445\n",
            "Epoch 47/100\n",
            "18/18 [==============================] - 0s 5ms/step - loss: 1554.9485 - val_loss: 1563.1614\n",
            "Epoch 48/100\n",
            "18/18 [==============================] - 0s 4ms/step - loss: 1550.4481 - val_loss: 1559.3485\n",
            "Epoch 49/100\n",
            "18/18 [==============================] - 0s 5ms/step - loss: 1544.9170 - val_loss: 1555.8728\n",
            "Epoch 50/100\n",
            "18/18 [==============================] - 0s 5ms/step - loss: 1541.8287 - val_loss: 1542.2689\n",
            "Epoch 51/100\n",
            "18/18 [==============================] - 0s 4ms/step - loss: 1544.2310 - val_loss: 1520.6890\n",
            "Epoch 52/100\n",
            "18/18 [==============================] - 0s 4ms/step - loss: 1539.8625 - val_loss: 1524.4359\n",
            "Epoch 53/100\n",
            "18/18 [==============================] - 0s 5ms/step - loss: 1528.7849 - val_loss: 1533.1256\n",
            "Epoch 54/100\n",
            "18/18 [==============================] - 0s 5ms/step - loss: 1525.9972 - val_loss: 1544.3090\n",
            "Epoch 55/100\n",
            "18/18 [==============================] - 0s 5ms/step - loss: 1521.9609 - val_loss: 1517.5853\n",
            "Epoch 56/100\n",
            "18/18 [==============================] - 0s 5ms/step - loss: 1522.7793 - val_loss: 1503.2336\n",
            "Epoch 57/100\n",
            "18/18 [==============================] - 0s 4ms/step - loss: 1511.6060 - val_loss: 1490.3051\n",
            "Epoch 58/100\n",
            "18/18 [==============================] - 0s 6ms/step - loss: 1518.6821 - val_loss: 1488.8192\n",
            "Epoch 59/100\n",
            "18/18 [==============================] - 0s 5ms/step - loss: 1518.6904 - val_loss: 1407.8489\n",
            "Epoch 60/100\n",
            "18/18 [==============================] - 0s 4ms/step - loss: 1502.7749 - val_loss: 1488.1855\n",
            "Epoch 61/100\n",
            "18/18 [==============================] - 0s 3ms/step - loss: 1505.4637 - val_loss: 1469.0978\n",
            "Epoch 62/100\n",
            "18/18 [==============================] - 0s 4ms/step - loss: 1503.0538 - val_loss: 1438.9192\n",
            "Epoch 63/100\n",
            "18/18 [==============================] - 0s 3ms/step - loss: 1496.1926 - val_loss: 1451.0470\n",
            "Epoch 64/100\n",
            "18/18 [==============================] - 0s 4ms/step - loss: 1492.8561 - val_loss: 1441.7684\n",
            "Epoch 65/100\n",
            "18/18 [==============================] - 0s 4ms/step - loss: 1492.7203 - val_loss: 1401.4600\n",
            "Epoch 66/100\n",
            "18/18 [==============================] - 0s 5ms/step - loss: 1486.8732 - val_loss: 1448.5287\n",
            "Epoch 67/100\n",
            "18/18 [==============================] - 0s 4ms/step - loss: 1493.8044 - val_loss: 1393.7148\n",
            "Epoch 68/100\n",
            "18/18 [==============================] - 0s 5ms/step - loss: 1491.1621 - val_loss: 1472.7626\n",
            "Epoch 69/100\n",
            "18/18 [==============================] - 0s 4ms/step - loss: 1489.4158 - val_loss: 1373.3804\n",
            "Epoch 70/100\n",
            "18/18 [==============================] - 0s 6ms/step - loss: 1478.3112 - val_loss: 1407.0813\n",
            "Epoch 71/100\n",
            "18/18 [==============================] - 0s 5ms/step - loss: 1476.4403 - val_loss: 1403.8466\n",
            "Epoch 72/100\n",
            "18/18 [==============================] - 0s 4ms/step - loss: 1493.3259 - val_loss: 1365.6534\n",
            "Epoch 73/100\n",
            "18/18 [==============================] - 0s 4ms/step - loss: 1468.8224 - val_loss: 1430.5594\n",
            "Epoch 74/100\n",
            "18/18 [==============================] - 0s 4ms/step - loss: 1468.8477 - val_loss: 1368.3622\n",
            "Epoch 75/100\n",
            "18/18 [==============================] - 0s 4ms/step - loss: 1463.2358 - val_loss: 1348.2653\n",
            "Epoch 76/100\n",
            "18/18 [==============================] - 0s 4ms/step - loss: 1462.9840 - val_loss: 1348.0721\n",
            "Epoch 77/100\n",
            "18/18 [==============================] - 0s 4ms/step - loss: 1461.5353 - val_loss: 1345.0692\n",
            "Epoch 78/100\n",
            "18/18 [==============================] - 0s 4ms/step - loss: 1458.0300 - val_loss: 1348.9471\n",
            "Epoch 79/100\n",
            "18/18 [==============================] - 0s 4ms/step - loss: 1458.9487 - val_loss: 1336.3142\n",
            "Epoch 80/100\n",
            "18/18 [==============================] - 0s 5ms/step - loss: 1456.2528 - val_loss: 1338.6311\n",
            "Epoch 81/100\n",
            "18/18 [==============================] - 0s 5ms/step - loss: 1452.2462 - val_loss: 1312.5486\n",
            "Epoch 82/100\n",
            "18/18 [==============================] - 0s 5ms/step - loss: 1450.1871 - val_loss: 1322.7483\n",
            "Epoch 83/100\n",
            "18/18 [==============================] - 0s 5ms/step - loss: 1448.4541 - val_loss: 1290.2502\n",
            "Epoch 84/100\n",
            "18/18 [==============================] - 0s 4ms/step - loss: 1450.3252 - val_loss: 1282.5276\n",
            "Epoch 85/100\n",
            "18/18 [==============================] - 0s 5ms/step - loss: 1447.2783 - val_loss: 1317.2389\n",
            "Epoch 86/100\n",
            "18/18 [==============================] - 0s 5ms/step - loss: 1449.3170 - val_loss: 1309.2831\n",
            "Epoch 87/100\n",
            "18/18 [==============================] - 0s 6ms/step - loss: 1449.5033 - val_loss: 1278.1239\n",
            "Epoch 88/100\n",
            "18/18 [==============================] - 0s 5ms/step - loss: 1437.9709 - val_loss: 1288.2837\n",
            "Epoch 89/100\n",
            "18/18 [==============================] - 0s 7ms/step - loss: 1435.9618 - val_loss: 1305.7788\n",
            "Epoch 90/100\n",
            "18/18 [==============================] - 0s 5ms/step - loss: 1435.9420 - val_loss: 1287.8256\n",
            "Epoch 91/100\n",
            "18/18 [==============================] - 0s 5ms/step - loss: 1433.1516 - val_loss: 1284.6329\n",
            "Epoch 92/100\n",
            "18/18 [==============================] - 0s 7ms/step - loss: 1441.4971 - val_loss: 1249.3566\n",
            "Epoch 93/100\n",
            "18/18 [==============================] - 0s 7ms/step - loss: 1427.8099 - val_loss: 1289.1334\n",
            "Epoch 94/100\n",
            "18/18 [==============================] - 0s 5ms/step - loss: 1429.8813 - val_loss: 1244.1624\n",
            "Epoch 95/100\n",
            "18/18 [==============================] - 0s 5ms/step - loss: 1426.6747 - val_loss: 1327.3988\n",
            "Epoch 96/100\n",
            "18/18 [==============================] - 0s 5ms/step - loss: 1433.8143 - val_loss: 1268.0920\n",
            "Epoch 97/100\n",
            "18/18 [==============================] - 0s 4ms/step - loss: 1435.6760 - val_loss: 1254.2075\n",
            "Epoch 98/100\n",
            "18/18 [==============================] - 0s 4ms/step - loss: 1422.6639 - val_loss: 1242.8134\n",
            "Epoch 99/100\n",
            "18/18 [==============================] - 0s 5ms/step - loss: 1436.9913 - val_loss: 1304.1680\n",
            "Epoch 100/100\n",
            "18/18 [==============================] - 0s 5ms/step - loss: 1431.4801 - val_loss: 1206.7900\n"
          ]
        },
        {
          "output_type": "execute_result",
          "data": {
            "text/plain": [
              "<keras.src.callbacks.History at 0x7af639feba30>"
            ]
          },
          "metadata": {},
          "execution_count": 12
        }
      ]
    },
    {
      "cell_type": "code",
      "source": [
        "# Evaluate the model\n",
        "loss = model.evaluate(X_test_scaled, y_test)\n",
        "print(f\"Test Loss: {loss}\")"
      ],
      "metadata": {
        "colab": {
          "base_uri": "https://localhost:8080/"
        },
        "id": "P-epYLmVy4S5",
        "outputId": "a0a20e1e-06de-43c7-8b8f-9697b6975e78"
      },
      "execution_count": null,
      "outputs": [
        {
          "output_type": "stream",
          "name": "stdout",
          "text": [
            "6/6 [==============================] - 0s 3ms/step - loss: 680.3341\n",
            "Test Loss: 680.3341064453125\n"
          ]
        }
      ]
    },
    {
      "cell_type": "markdown",
      "source": [
        "* Print Statement: This line prints out the test loss obtained from evaluating the model on the test data.\n",
        "\n",
        "loss: This variable stores the loss value returned by model.evaluate()."
      ],
      "metadata": {
        "id": "qsr6juP8A1a5"
      }
    },
    {
      "cell_type": "code",
      "source": [
        "# Make predictions\n",
        "y_pred = model.predict(X_test_scaled)\n"
      ],
      "metadata": {
        "colab": {
          "base_uri": "https://localhost:8080/"
        },
        "id": "elZ8j3gEy7nQ",
        "outputId": "928bdb38-c9fd-430a-aae8-be2d850bcae0"
      },
      "execution_count": null,
      "outputs": [
        {
          "output_type": "stream",
          "name": "stdout",
          "text": [
            "6/6 [==============================] - 0s 2ms/step\n"
          ]
        }
      ]
    },
    {
      "cell_type": "code",
      "source": [
        "# Display predictions\n",
        "print(y_pred[:5])"
      ],
      "metadata": {
        "colab": {
          "base_uri": "https://localhost:8080/"
        },
        "id": "YJZk4XAty9uJ",
        "outputId": "22243099-3773-4aae-cc1f-b41afcab8494"
      },
      "execution_count": null,
      "outputs": [
        {
          "output_type": "stream",
          "name": "stdout",
          "text": [
            "[[79.644516 ]\n",
            " [54.434372 ]\n",
            " [ 7.9626894]\n",
            " [68.72749  ]\n",
            " [11.083474 ]]\n"
          ]
        }
      ]
    },
    {
      "cell_type": "code",
      "source": [
        "# Calculate evaluation metrics\n",
        "from sklearn.metrics import mean_squared_error, mean_absolute_error, r2_score\n",
        "mse = mean_squared_error(y_test, y_pred)\n",
        "mae = mean_absolute_error(y_test, y_pred)\n",
        "r2 = r2_score(y_test, y_pred)"
      ],
      "metadata": {
        "id": "FjNrWJY_1UV-"
      },
      "execution_count": null,
      "outputs": []
    },
    {
      "cell_type": "code",
      "source": [
        "# Display evaluation metrics\n",
        "print(f\"Mean Squared Error (MSE): {mse}\")\n",
        "print(f\"Mean Absolute Error (MAE): {mae}\")\n",
        "print(f\"R-squared (R²): {r2}\")"
      ],
      "metadata": {
        "colab": {
          "base_uri": "https://localhost:8080/"
        },
        "id": "q8ImuQHB1UsM",
        "outputId": "0a390c9f-3449-41e9-ec22-1d9704d2ef8c"
      },
      "execution_count": null,
      "outputs": [
        {
          "output_type": "stream",
          "name": "stdout",
          "text": [
            "Mean Squared Error (MSE): 680.33414111885\n",
            "Mean Absolute Error (MAE): 14.313338755961217\n",
            "R-squared (R²): 0.4179079163390901\n"
          ]
        }
      ]
    },
    {
      "cell_type": "markdown",
      "source": [
        "* Mean Squared Error (MSE) measures the average squared difference between the predicted values and the actual values.\n",
        "* Mean Absolute Error (MAE) measures the average absolute difference between the predicted values and the actual values.\n",
        "* R-squared (R²) is a statistical measure that indicates the proportion of the variance in the dependent variable (target) that is predictable from the independent variables (features)."
      ],
      "metadata": {
        "id": "r-qSyrffBZs_"
      }
    }
  ]
}